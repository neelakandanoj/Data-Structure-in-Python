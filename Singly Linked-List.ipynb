{
 "cells": [
  {
   "cell_type": "code",
   "execution_count": 31,
   "metadata": {},
   "outputs": [],
   "source": [
    "class Node:\n",
    "    def __init__(self,value):\n",
    "        self.value=value\n",
    "        self.next=None\n",
    "        \n",
    "\n",
    "class SinglyLinkedList:\n",
    "    def __init__(self):\n",
    "        self.head=None\n",
    "        self.tail=None\n",
    "        self._length=0\n",
    "    \n",
    "    def append(self,value):\n",
    "        new_node=Node(value)\n",
    "        if not self._length:\n",
    "            self.head=self.tail=new_node\n",
    "        else:\n",
    "            self.tail.next=new_node\n",
    "            self.tail=new_node\n",
    "        self._length+=1\n",
    "        return self\n",
    "    \n",
    "    def prepand(self,value):\n",
    "        new_node=Node(value)\n",
    "        if not self._length:\n",
    "            self.head=self.tail=new_node\n",
    "        else:\n",
    "            new_node.next=self.head\n",
    "            self.head=new_node\n",
    "        self._length+=1\n",
    "        return self  \n",
    "    \n",
    "    def popleft(self):\n",
    "        if not self._length:\n",
    "            raise Exception(\"List is empty\")\n",
    "        former_head=self.head\n",
    "        self.head=former_head.next\n",
    "        former_head.next=None\n",
    "        self._length-=1\n",
    "        if not self._length:\n",
    "            self.tail=None\n",
    "        return former_head.value\n",
    "    \n",
    "    def popright(self):\n",
    "        if not self._length:\n",
    "            raise Exception(\"List is empty\")\n",
    "        if self._length==1:\n",
    "            self.head=self.tail=None\n",
    "        else:\n",
    "            temp_node=self.head\n",
    "            while temp_node.next is not self.tail:\n",
    "                temp_node=temp_node.next\n",
    "            self.tail=temp_node\n",
    "            self.tail.next=None\n",
    "        self._length-=1\n",
    "        return self\n",
    "    \n",
    "    def remove(self,value):\n",
    "        if not self._length:\n",
    "            raise Exception(\"List is empty\")\n",
    "        if self.head.value==value:\n",
    "            return self.popleft()\n",
    "        previous_node=self.head\n",
    "        current_node=self.head.next\n",
    "        while current_node is not None and current_node.value != value:\n",
    "            previous_node=current_node\n",
    "            current_node=current_node.next\n",
    "        if current_node is None:\n",
    "            raise ValueError(\"Item not in list\")\n",
    "        if current_node.next is None:\n",
    "            self.tail=previous_node\n",
    "        previous_node.next=current_node.next\n",
    "        current_node.next=None\n",
    "        self._length-=1\n",
    "        return current_node.value\n",
    "    \n",
    "    def reverse(self):\n",
    "        prev=None\n",
    "        current=self.head\n",
    "        while current:\n",
    "            next_node=current.next\n",
    "            current.next=prev\n",
    "            prev=current\n",
    "            current=next_node\n",
    "        self.head=prev\n",
    "\n",
    "\n",
    "    \n",
    "    def print_list(self):\n",
    "        current=self.head\n",
    "        while current:\n",
    "            print(current.value, \"->\",end=\" \")\n",
    "            current=current.next\n",
    "        print(\"None\")\n",
    "\n",
    "    "
   ]
  },
  {
   "cell_type": "code",
   "execution_count": 42,
   "metadata": {},
   "outputs": [
    {
     "name": "stdout",
     "output_type": "stream",
     "text": [
      "<__main__.SinglyLinkedList object at 0x0000024E40043DA0>\n",
      "0\n",
      "9\n",
      "4\n"
     ]
    }
   ],
   "source": [
    "my_list=SinglyLinkedList()\n",
    "my_list.append(3)\n",
    "my_list.append(5)\n",
    "my_list.append(9)\n",
    "my_list.prepand(0)\n",
    "\n",
    "\n",
    "print(my_list)\n",
    "print(my_list.head.value)\n",
    "print(my_list.tail.value)\n",
    "print(my_list._length)"
   ]
  },
  {
   "cell_type": "code",
   "execution_count": 43,
   "metadata": {},
   "outputs": [
    {
     "name": "stdout",
     "output_type": "stream",
     "text": [
      "77\n"
     ]
    }
   ],
   "source": [
    "my_list.append(77)\n",
    "print(my_list.tail.value)"
   ]
  },
  {
   "cell_type": "code",
   "execution_count": 29,
   "metadata": {},
   "outputs": [
    {
     "name": "stdout",
     "output_type": "stream",
     "text": [
      ".................Before Pop left...................\n",
      "0 -> 3 -> 5 -> 9 -> 77 -> None\n",
      ".................After Pop left...................\n",
      "3 -> 5 -> 9 -> 77 -> None\n"
     ]
    }
   ],
   "source": [
    "print(\".................Before Pop left...................\")\n",
    "my_list.print_list()\n",
    "my_list.popleft()\n",
    "print(\".................After Pop left...................\")\n",
    "my_list.print_list()"
   ]
  },
  {
   "cell_type": "code",
   "execution_count": 41,
   "metadata": {},
   "outputs": [
    {
     "name": "stdout",
     "output_type": "stream",
     "text": [
      ".................Before Pop right...................\n",
      "None\n"
     ]
    },
    {
     "ename": "Exception",
     "evalue": "List is empty",
     "output_type": "error",
     "traceback": [
      "\u001b[1;31m---------------------------------------------------------------------------\u001b[0m",
      "\u001b[1;31mException\u001b[0m                                 Traceback (most recent call last)",
      "Cell \u001b[1;32mIn[41], line 3\u001b[0m\n\u001b[0;32m      1\u001b[0m \u001b[38;5;28mprint\u001b[39m(\u001b[38;5;124m\"\u001b[39m\u001b[38;5;124m.................Before Pop right...................\u001b[39m\u001b[38;5;124m\"\u001b[39m)\n\u001b[0;32m      2\u001b[0m my_list\u001b[38;5;241m.\u001b[39mprint_list()\n\u001b[1;32m----> 3\u001b[0m \u001b[43mmy_list\u001b[49m\u001b[38;5;241;43m.\u001b[39;49m\u001b[43mpopright\u001b[49m\u001b[43m(\u001b[49m\u001b[43m)\u001b[49m\n\u001b[0;32m      4\u001b[0m \u001b[38;5;28mprint\u001b[39m(\u001b[38;5;124m\"\u001b[39m\u001b[38;5;124m.................After Pop left...................\u001b[39m\u001b[38;5;124m\"\u001b[39m)\n\u001b[0;32m      5\u001b[0m my_list\u001b[38;5;241m.\u001b[39mprint_list()\n",
      "Cell \u001b[1;32mIn[31], line 46\u001b[0m, in \u001b[0;36mSinglyLinkedList.popright\u001b[1;34m(self)\u001b[0m\n\u001b[0;32m     44\u001b[0m \u001b[38;5;28;01mdef\u001b[39;00m \u001b[38;5;21mpopright\u001b[39m(\u001b[38;5;28mself\u001b[39m):\n\u001b[0;32m     45\u001b[0m     \u001b[38;5;28;01mif\u001b[39;00m \u001b[38;5;129;01mnot\u001b[39;00m \u001b[38;5;28mself\u001b[39m\u001b[38;5;241m.\u001b[39m_length:\n\u001b[1;32m---> 46\u001b[0m         \u001b[38;5;28;01mraise\u001b[39;00m \u001b[38;5;167;01mException\u001b[39;00m(\u001b[38;5;124m\"\u001b[39m\u001b[38;5;124mList is empty\u001b[39m\u001b[38;5;124m\"\u001b[39m)\n\u001b[0;32m     47\u001b[0m     \u001b[38;5;28;01mif\u001b[39;00m \u001b[38;5;28mself\u001b[39m\u001b[38;5;241m.\u001b[39m_length\u001b[38;5;241m==\u001b[39m\u001b[38;5;241m1\u001b[39m:\n\u001b[0;32m     48\u001b[0m         \u001b[38;5;28mself\u001b[39m\u001b[38;5;241m.\u001b[39mhead\u001b[38;5;241m=\u001b[39m\u001b[38;5;28mself\u001b[39m\u001b[38;5;241m.\u001b[39mtail\u001b[38;5;241m=\u001b[39m\u001b[38;5;28;01mNone\u001b[39;00m\n",
      "\u001b[1;31mException\u001b[0m: List is empty"
     ]
    }
   ],
   "source": [
    "print(\".................Before Pop right...................\")\n",
    "my_list.print_list()\n",
    "my_list.popright()\n",
    "print(\".................After Pop left...................\")\n",
    "my_list.print_list()"
   ]
  },
  {
   "cell_type": "code",
   "execution_count": null,
   "metadata": {},
   "outputs": [],
   "source": [
    "print(\".................Before Pop left...................\")\n",
    "my_list.print_list()\n",
    "my_list.remove(9)\n",
    "print(\".................After Pop left...................\")\n",
    "my_list.print_list()"
   ]
  },
  {
   "cell_type": "code",
   "execution_count": 49,
   "metadata": {},
   "outputs": [
    {
     "name": "stdout",
     "output_type": "stream",
     "text": [
      "------------------Before reverse--------------\n",
      "77 -> 9 -> 5 -> 3 -> 0 -> None\n",
      "-------------------After Reverse----------------\n",
      "0 -> 3 -> 5 -> 9 -> 77 -> None\n"
     ]
    }
   ],
   "source": [
    "print(\"------------------Before reverse--------------\")\n",
    "my_list.print_list()\n",
    "my_list.reverse()\n",
    "print(\"-------------------After Reverse----------------\")\n",
    "my_list.print_list()"
   ]
  },
  {
   "cell_type": "code",
   "execution_count": null,
   "metadata": {},
   "outputs": [],
   "source": []
  }
 ],
 "metadata": {
  "kernelspec": {
   "display_name": ".venv",
   "language": "python",
   "name": "python3"
  },
  "language_info": {
   "codemirror_mode": {
    "name": "ipython",
    "version": 3
   },
   "file_extension": ".py",
   "mimetype": "text/x-python",
   "name": "python",
   "nbconvert_exporter": "python",
   "pygments_lexer": "ipython3",
   "version": "3.12.8"
  }
 },
 "nbformat": 4,
 "nbformat_minor": 2
}
