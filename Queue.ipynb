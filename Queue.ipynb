{
 "cells": [
  {
   "cell_type": "code",
   "execution_count": 1,
   "metadata": {},
   "outputs": [],
   "source": [
    "class Node:\n",
    "    def __init__(self,value):\n",
    "        self.value=value\n",
    "        self.next=None\n",
    "        \n",
    "class Queue:\n",
    "    def __init__(self):\n",
    "        self.head=None\n",
    "        self.tail=None\n",
    "        self._size=0\n",
    "\n",
    "    def enqueue(self,value):\n",
    "        new_node=Node(value)\n",
    "        if not self._size:\n",
    "            self.head=self.tail=new_node\n",
    "        else:\n",
    "            self.tail.next=new_node\n",
    "            self.tail=new_node\n",
    "        self._size+=1\n",
    "        return self\n",
    "\n",
    "    def pop_left(self):\n",
    "        if not self._size:\n",
    "            raise Exception(\"Queue is empty\")\n",
    "        former_head=self.head\n",
    "        self.head=former_head.next\n",
    "        former_head.next=None\n",
    "        self._size-=1\n",
    "        if not self._size:\n",
    "            self.tail=None\n",
    "        return former_head.value\n",
    "\n",
    "    \n",
    "    def clear(self):\n",
    "        self.head=None\n",
    "        self.tail=None\n",
    "        self._size=0\n",
    "        return self\n",
    "\n",
    "    def peek(self):\n",
    "        return self.head.value if self.head else None"
   ]
  },
  {
   "cell_type": "code",
   "execution_count": 2,
   "metadata": {},
   "outputs": [],
   "source": [
    "my_queue=Queue()\n",
    "my_queue.peek()"
   ]
  },
  {
   "cell_type": "code",
   "execution_count": null,
   "metadata": {},
   "outputs": [],
   "source": []
  }
 ],
 "metadata": {
  "kernelspec": {
   "display_name": ".venv",
   "language": "python",
   "name": "python3"
  },
  "language_info": {
   "codemirror_mode": {
    "name": "ipython",
    "version": 3
   },
   "file_extension": ".py",
   "mimetype": "text/x-python",
   "name": "python",
   "nbconvert_exporter": "python",
   "pygments_lexer": "ipython3",
   "version": "3.12.8"
  }
 },
 "nbformat": 4,
 "nbformat_minor": 2
}
