{
 "cells": [
  {
   "cell_type": "code",
   "execution_count": 8,
   "metadata": {},
   "outputs": [
    {
     "name": "stdout",
     "output_type": "stream",
     "text": [
      "    * \n",
      "   * * \n",
      "  * * * \n",
      " * * * * \n",
      "* * * * * \n",
      "* * * * * \n",
      " * * * * \n",
      "  * * * \n",
      "   * * \n",
      "    * \n"
     ]
    }
   ],
   "source": [
    "def program(n):\n",
    "\n",
    "    \n",
    "    for i in range(n):\n",
    "        print(\" \"*(n-i-1)+ \"* \"*(i+1))\n",
    "    print(\"* \"*n)\n",
    "    for j in range(n-1):\n",
    "        print(\" \"*(j+1)+ \"* \"*(n-j-1))\n",
    "program(5)"
   ]
  },
  {
   "cell_type": "code",
   "execution_count": 9,
   "metadata": {},
   "outputs": [
    {
     "name": "stdout",
     "output_type": "stream",
     "text": [
      "111 222 3333 4444 444 555 "
     ]
    }
   ],
   "source": [
    "def print_unique_numbers(nums):\n",
    "    seen = []\n",
    "    result = []\n",
    "\n",
    "    for num in nums:\n",
    "        # Check if the number is already in the 'seen' list\n",
    "        is_duplicate = False\n",
    "        for seen_num in seen:\n",
    "            if num == seen_num:\n",
    "                is_duplicate = True\n",
    "                break\n",
    "\n",
    "        # If not a duplicate, add it to 'seen' and 'result'\n",
    "        if not is_duplicate:\n",
    "            seen.append(num)\n",
    "            result.append(num)\n",
    "\n",
    "    # Print the result\n",
    "    for num in result:\n",
    "        print(num, end=\" \")\n",
    "\n",
    "# Example usage\n",
    "nums = [111, 222, 3333, 4444, 444, 555]\n",
    "print_unique_numbers(nums)\n"
   ]
  },
  {
   "cell_type": "code",
   "execution_count": 11,
   "metadata": {},
   "outputs": [
    {
     "data": {
      "text/plain": [
       "[9, 5, 3, 1, 6, 8]"
      ]
     },
     "execution_count": 11,
     "metadata": {},
     "output_type": "execute_result"
    }
   ],
   "source": [
    "arr=[8,6,3,1,9,5]\n",
    "odd=[]\n",
    "even=[]\n",
    "\n",
    "for i in arr:\n",
    "    if i %2==0:\n",
    "        even.append(i)\n",
    "    else:\n",
    "        odd.append(i)\n",
    "odd.sort(reverse=True)\n",
    "even.sort()\n",
    "result=odd+even\n",
    "result\n",
    "\n"
   ]
  },
  {
   "cell_type": "code",
   "execution_count": null,
   "metadata": {},
   "outputs": [],
   "source": []
  }
 ],
 "metadata": {
  "kernelspec": {
   "display_name": ".venv",
   "language": "python",
   "name": "python3"
  },
  "language_info": {
   "codemirror_mode": {
    "name": "ipython",
    "version": 3
   },
   "file_extension": ".py",
   "mimetype": "text/x-python",
   "name": "python",
   "nbconvert_exporter": "python",
   "pygments_lexer": "ipython3",
   "version": "3.12.8"
  }
 },
 "nbformat": 4,
 "nbformat_minor": 2
}
