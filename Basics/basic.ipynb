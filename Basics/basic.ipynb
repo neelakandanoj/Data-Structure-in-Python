{
 "cells": [
  {
   "cell_type": "code",
   "execution_count": 1,
   "metadata": {},
   "outputs": [
    {
     "name": "stdout",
     "output_type": "stream",
     "text": [
      "Learning Data Structures\n"
     ]
    }
   ],
   "source": [
    "print(\"Learning Data Structures\")"
   ]
  },
  {
   "cell_type": "code",
   "execution_count": 4,
   "metadata": {},
   "outputs": [
    {
     "name": "stdout",
     "output_type": "stream",
     "text": [
      "9\n"
     ]
    }
   ],
   "source": [
    "a=10\n",
    "b=9\n",
    "a=b\n",
    "print(a)"
   ]
  },
  {
   "cell_type": "markdown",
   "metadata": {},
   "source": [
    "## Sum of List"
   ]
  },
  {
   "cell_type": "code",
   "execution_count": 11,
   "metadata": {},
   "outputs": [
    {
     "name": "stdout",
     "output_type": "stream",
     "text": [
      "Numbers [3, 4, 5, 3]\n"
     ]
    }
   ],
   "source": [
    "def sum_list(numbers):\n",
    "    # Your code goes here\n",
    "    total=0\n",
    "    for i in numbers:\n",
    "        total=total+i\n",
    "    return total\n",
    "\n",
    "num=list(map(int,input().split()))\n",
    "sum_list(num)\n",
    "print(f\"Numbers {num}\")"
   ]
  },
  {
   "cell_type": "code",
   "execution_count": 9,
   "metadata": {},
   "outputs": [
    {
     "data": {
      "text/plain": [
       "[4, 5, 6, 4]"
      ]
     },
     "execution_count": 9,
     "metadata": {},
     "output_type": "execute_result"
    }
   ],
   "source": [
    "num=list(map(int,input().split()))\n",
    "num"
   ]
  },
  {
   "cell_type": "code",
   "execution_count": 12,
   "metadata": {},
   "outputs": [
    {
     "data": {
      "text/plain": [
       "True"
      ]
     },
     "execution_count": 12,
     "metadata": {},
     "output_type": "execute_result"
    }
   ],
   "source": [
    "-10<8"
   ]
  },
  {
   "cell_type": "markdown",
   "metadata": {},
   "source": [
    "## Largest among the List"
   ]
  },
  {
   "cell_type": "code",
   "execution_count": 24,
   "metadata": {},
   "outputs": [
    {
     "name": "stdout",
     "output_type": "stream",
     "text": [
      "[2, 3, 4, 4]\n"
     ]
    },
    {
     "data": {
      "text/plain": [
       "4"
      ]
     },
     "execution_count": 24,
     "metadata": {},
     "output_type": "execute_result"
    }
   ],
   "source": [
    "def find_largest(numbers):\n",
    "    # Your code goes here\n",
    "    # if not numbers:\n",
    "    #     return None\n",
    "    Large_number=numbers[0]\n",
    "    for i in numbers:\n",
    "        \n",
    "        if Large_number<i:\n",
    "            Large_number=i\n",
    "\n",
    "    return Large_number\n",
    "            \n",
    "num=list(map(int,input().split()))\n",
    "print(num)\n",
    "find_largest(num)"
   ]
  },
  {
   "cell_type": "code",
   "execution_count": 16,
   "metadata": {},
   "outputs": [
    {
     "data": {
      "text/plain": [
       "False"
      ]
     },
     "execution_count": 16,
     "metadata": {},
     "output_type": "execute_result"
    }
   ],
   "source": [
    "22<-9"
   ]
  },
  {
   "cell_type": "markdown",
   "metadata": {},
   "source": [
    "## Remove Duplicate in List"
   ]
  },
  {
   "cell_type": "code",
   "execution_count": 30,
   "metadata": {},
   "outputs": [
    {
     "data": {
      "text/plain": [
       "[2]"
      ]
     },
     "execution_count": 30,
     "metadata": {},
     "output_type": "execute_result"
    }
   ],
   "source": [
    "def remove_duplicates(lst):\n",
    "    # Your code goes here\n",
    "    n=[]\n",
    "    for i in lst:\n",
    "        if i not in n:\n",
    "            n.append(i)\n",
    "    return n\n",
    "num=list(map(int,input().split()))\n",
    "remove_duplicates(num)"
   ]
  },
  {
   "cell_type": "markdown",
   "metadata": {},
   "source": [
    "## Check if all elements in a list are Unique"
   ]
  },
  {
   "cell_type": "code",
   "execution_count": 40,
   "metadata": {},
   "outputs": [
    {
     "data": {
      "text/plain": [
       "True"
      ]
     },
     "execution_count": 40,
     "metadata": {},
     "output_type": "execute_result"
    }
   ],
   "source": [
    "def check_unique(lst):\n",
    "    # Initialize an empty set to keep track of seen elements\n",
    "    seen = set()\n",
    "    \n",
    "    # Iterate through each element in the input list\n",
    "    for num in lst:\n",
    "        # If the element has been seen before, return False\n",
    "        if num in seen:\n",
    "            return False\n",
    "        # Add the element to the seen set\n",
    "        seen.add(num)\n",
    "\n",
    "    # If no duplicates are found, return True\n",
    "    return True\n",
    "check_unique([1,2,4,5])"
   ]
  },
  {
   "cell_type": "code",
   "execution_count": 43,
   "metadata": {},
   "outputs": [
    {
     "data": {
      "text/plain": [
       "True"
      ]
     },
     "execution_count": 43,
     "metadata": {},
     "output_type": "execute_result"
    }
   ],
   "source": [
    "def check_unique(lst):\n",
    "    # Your code goes here\n",
    "    num=set()\n",
    "    for i in lst:\n",
    "        if i in num:\n",
    "            return False\n",
    "        num.add(i)\n",
    "    return True\n",
    "l=list(map(int,input().split()))\n",
    "check_unique(l)\n",
    "            "
   ]
  },
  {
   "cell_type": "markdown",
   "metadata": {},
   "source": [
    "## Reverse The List"
   ]
  },
  {
   "cell_type": "code",
   "execution_count": 56,
   "metadata": {},
   "outputs": [
    {
     "data": {
      "text/plain": [
       "[5, 4, 3, 2, 1]"
      ]
     },
     "execution_count": 56,
     "metadata": {},
     "output_type": "execute_result"
    }
   ],
   "source": [
    "num=[1,2,3,4,5]\n",
    "start=0\n",
    "end=len(num)-1\n",
    "while start<end:\n",
    "    temp=num[start]\n",
    "    num[start]=num[end]\n",
    "    num[end]=temp\n",
    "    start+=1\n",
    "    end-=1\n",
    "num"
   ]
  },
  {
   "cell_type": "markdown",
   "metadata": {},
   "source": [
    "## Count of Odd Even List"
   ]
  },
  {
   "cell_type": "code",
   "execution_count": 58,
   "metadata": {},
   "outputs": [
    {
     "name": "stdout",
     "output_type": "stream",
     "text": [
      "[1, 2, 3, 4, 2, 5, 42, 12]\n"
     ]
    },
    {
     "data": {
      "text/plain": [
       "(5, 3)"
      ]
     },
     "execution_count": 58,
     "metadata": {},
     "output_type": "execute_result"
    }
   ],
   "source": [
    "def count_even_odd(lst):\n",
    "    # Your code goes here\n",
    "    e_c=0\n",
    "    o_c=0\n",
    "    for i in lst:\n",
    "        if i %2==0:\n",
    "            e_c+=1\n",
    "        else:\n",
    "            o_c+=1\n",
    "    return (e_c,o_c)\n",
    "num=list(map(int,input().split()))\n",
    "print(num)\n",
    "count_even_odd(num)"
   ]
  },
  {
   "cell_type": "code",
   "execution_count": null,
   "metadata": {},
   "outputs": [],
   "source": []
  }
 ],
 "metadata": {
  "kernelspec": {
   "display_name": ".venv",
   "language": "python",
   "name": "python3"
  },
  "language_info": {
   "codemirror_mode": {
    "name": "ipython",
    "version": 3
   },
   "file_extension": ".py",
   "mimetype": "text/x-python",
   "name": "python",
   "nbconvert_exporter": "python",
   "pygments_lexer": "ipython3",
   "version": "3.12.6"
  }
 },
 "nbformat": 4,
 "nbformat_minor": 2
}
