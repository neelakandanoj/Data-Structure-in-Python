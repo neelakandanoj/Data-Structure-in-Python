{
 "cells": [
  {
   "cell_type": "code",
   "execution_count": 14,
   "metadata": {},
   "outputs": [],
   "source": [
    "class Node:\n",
    "    def __init__(self,value):\n",
    "        self.value=value\n",
    "        self.next=None\n",
    "        self.previous=None\n",
    "    \n",
    "class DoublyLinkedList:\n",
    "    def __init__(self):\n",
    "        self.head=None\n",
    "        self.tail=None\n",
    "        self._length=0\n",
    "\n",
    "    def append(self,value):\n",
    "        new_node=Node(value)\n",
    "        if not self._length:\n",
    "            self.head=self.tail=new_node\n",
    "        else:\n",
    "            self.tail.next=new_node\n",
    "            new_node.previous=self.tail\n",
    "            self.tail=new_node\n",
    "        self._length+=1\n",
    "        return self\n",
    "\n",
    "    def print_list(self):\n",
    "        current=self.head\n",
    "        while current:\n",
    "            print(current.value,\"<-> \",end=\"\")\n",
    "            current=current.next\n",
    "        print(\"None\")\n"
   ]
  },
  {
   "cell_type": "code",
   "execution_count": 15,
   "metadata": {},
   "outputs": [
    {
     "name": "stdout",
     "output_type": "stream",
     "text": [
      "0 <-> 10 <-> 20 <-> 30 <-> None\n"
     ]
    }
   ],
   "source": [
    "my_list= DoublyLinkedList()\n",
    "my_list.append(0)\n",
    "my_list.append(10)\n",
    "my_list.append(20)\n",
    "my_list.append(30)\n",
    "my_list.print_list()\n"
   ]
  },
  {
   "cell_type": "code",
   "execution_count": null,
   "metadata": {},
   "outputs": [],
   "source": []
  },
  {
   "cell_type": "code",
   "execution_count": null,
   "metadata": {},
   "outputs": [],
   "source": []
  }
 ],
 "metadata": {
  "kernelspec": {
   "display_name": ".venv",
   "language": "python",
   "name": "python3"
  },
  "language_info": {
   "codemirror_mode": {
    "name": "ipython",
    "version": 3
   },
   "file_extension": ".py",
   "mimetype": "text/x-python",
   "name": "python",
   "nbconvert_exporter": "python",
   "pygments_lexer": "ipython3",
   "version": "3.12.8"
  }
 },
 "nbformat": 4,
 "nbformat_minor": 2
}
