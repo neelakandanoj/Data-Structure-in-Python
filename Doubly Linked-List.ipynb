{
 "cells": [
  {
   "cell_type": "code",
   "execution_count": 64,
   "metadata": {},
   "outputs": [],
   "source": [
    "class Node:\n",
    "    def __init__(self,value):\n",
    "        self.value=value\n",
    "        self.next=None\n",
    "        self.previous=None\n",
    "    \n",
    "class DoublyLinkedList:\n",
    "    def __init__(self):\n",
    "        self.head=None\n",
    "        self.tail=None\n",
    "        self._length=0\n",
    "\n",
    "    def append(self,value):\n",
    "        new_node=Node(value)\n",
    "        if not self._length:\n",
    "            self.head=self.tail=new_node\n",
    "        else:\n",
    "            self.tail.next=new_node\n",
    "            new_node.previous=self.tail\n",
    "            self.tail=new_node\n",
    "        self._length+=1\n",
    "        return self\n",
    "    \n",
    "    def prepand(self,value):\n",
    "        new_node=Node(value)\n",
    "        if not self._length:\n",
    "            self.head=self.tail=new_node\n",
    "        else:\n",
    "            self.head.previous=new_node\n",
    "            new_node.next=self.head\n",
    "            self.head=new_node\n",
    "        self._length+=1\n",
    "        return self\n",
    "    \n",
    "    def pop_left(self):\n",
    "        if not self._length:\n",
    "            raise Exception(\"List is empty\")\n",
    "        former_head=self.head\n",
    "        if self._length==1:\n",
    "            self.head=self.tail=None\n",
    "        else:\n",
    "            self.head=former_head.next\n",
    "            former_head.previous=None\n",
    "            self.head.previous=None\n",
    "        self._length-=1\n",
    "        return former_head.value\n",
    "    \n",
    "\n",
    "    # 0-3-2-1-None\n",
    "    def pop_right(self):\n",
    "        if not self._length:\n",
    "            raise Exception(\"List is Empty\")\n",
    "        former_tail=self.tail\n",
    "        if self._length==1:\n",
    "            self.head=self.tail=None\n",
    "        else:\n",
    "           self.tail=former_tail.previous\n",
    "           former_tail.previous=None\n",
    "           self.tail.next=None\n",
    "        self._length-=1\n",
    "        return former_tail.value\n",
    "    \n",
    "    def remove(self,value):\n",
    "        current=self.head\n",
    "        \n",
    "        while current:\n",
    "            if current.value==value:\n",
    "                if current.previous:\n",
    "                    current.previous.next=current.next\n",
    "                else:\n",
    "                    self.head=current.next\n",
    "\n",
    "                if current.next:\n",
    "                    current.next.previous=current.previous\n",
    "\n",
    "                return current.value\n",
    "            current=current.next\n",
    "        \n",
    "\n",
    "    def reverse(self):\n",
    "        current = self.head\n",
    "        prev_node = None\n",
    "        \n",
    "        while current:\n",
    "            # Swap the next and prev pointers for the current node\n",
    "            next_node = current.next\n",
    "            current.next = current.previous\n",
    "            current.previous = next_node\n",
    "\n",
    "            # Move to the next node in the original order\n",
    "            prev_node = current\n",
    "            current = next_node\n",
    "        \n",
    "        # Update the head to the last node processed\n",
    "        self.head = prev_node\n",
    "\n",
    "        \n",
    "    def print_list(self):\n",
    "        current=self.head\n",
    "        while current:\n",
    "            print(current.value,\"<-> \",end=\"\")\n",
    "            current=current.next\n",
    "        print(\"None\")\n"
   ]
  },
  {
   "cell_type": "code",
   "execution_count": 65,
   "metadata": {},
   "outputs": [
    {
     "name": "stdout",
     "output_type": "stream",
     "text": [
      "110 <-> 10 <-> 20 <-> 30 <-> None\n"
     ]
    }
   ],
   "source": [
    "my_list= DoublyLinkedList()\n",
    "my_list.append(110)\n",
    "my_list.append(10)\n",
    "my_list.append(20)\n",
    "my_list.append(30)\n",
    "my_list.print_list()\n"
   ]
  },
  {
   "cell_type": "code",
   "execution_count": 53,
   "metadata": {},
   "outputs": [
    {
     "name": "stdout",
     "output_type": "stream",
     "text": [
      "8 <-> 110 <-> 10 <-> 20 <-> 30 <-> None\n"
     ]
    }
   ],
   "source": [
    "my_list.prepand(8)\n",
    "my_list.print_list()"
   ]
  },
  {
   "cell_type": "code",
   "execution_count": 49,
   "metadata": {},
   "outputs": [
    {
     "name": "stdout",
     "output_type": "stream",
     "text": [
      "110 <-> 10 <-> 20 <-> 30 <-> None\n"
     ]
    }
   ],
   "source": [
    "my_list.pop_left()\n",
    "my_list.print_list()"
   ]
  },
  {
   "cell_type": "code",
   "execution_count": 50,
   "metadata": {},
   "outputs": [
    {
     "name": "stdout",
     "output_type": "stream",
     "text": [
      "110 <-> 10 <-> 20 <-> None\n"
     ]
    }
   ],
   "source": [
    "my_list.pop_right()\n",
    "my_list.print_list()"
   ]
  },
  {
   "cell_type": "code",
   "execution_count": 63,
   "metadata": {},
   "outputs": [
    {
     "name": "stdout",
     "output_type": "stream",
     "text": [
      "30 <-> 20 <-> 10 <-> 110 <-> None\n",
      "Before reverse  None\n",
      "110 <-> 10 <-> 20 <-> 30 <-> None\n",
      "After reverse   None\n"
     ]
    }
   ],
   "source": [
    "print(\"Before reverse \",my_list.print_list())\n",
    "my_list.reverse()\n",
    "print(\"After reverse  \",my_list.print_list())"
   ]
  },
  {
   "cell_type": "code",
   "execution_count": 62,
   "metadata": {},
   "outputs": [
    {
     "name": "stdout",
     "output_type": "stream",
     "text": [
      "30 <-> 20 <-> 10 <-> 110 <-> None\n"
     ]
    }
   ],
   "source": [
    "my_list.print_list()"
   ]
  },
  {
   "cell_type": "code",
   "execution_count": 66,
   "metadata": {},
   "outputs": [
    {
     "name": "stdout",
     "output_type": "stream",
     "text": [
      "10 <-> 20 <-> 30 <-> None\n"
     ]
    }
   ],
   "source": [
    "my_list.remove(110)\n",
    "my_list.print_list()"
   ]
  },
  {
   "cell_type": "code",
   "execution_count": null,
   "metadata": {},
   "outputs": [],
   "source": []
  }
 ],
 "metadata": {
  "kernelspec": {
   "display_name": ".venv",
   "language": "python",
   "name": "python3"
  },
  "language_info": {
   "codemirror_mode": {
    "name": "ipython",
    "version": 3
   },
   "file_extension": ".py",
   "mimetype": "text/x-python",
   "name": "python",
   "nbconvert_exporter": "python",
   "pygments_lexer": "ipython3",
   "version": "3.12.8"
  }
 },
 "nbformat": 4,
 "nbformat_minor": 2
}
