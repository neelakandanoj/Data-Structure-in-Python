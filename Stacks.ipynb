{
 "cells": [
  {
   "cell_type": "code",
   "execution_count": 5,
   "metadata": {},
   "outputs": [
    {
     "name": "stdout",
     "output_type": "stream",
     "text": [
      "[3, 4]\n"
     ]
    }
   ],
   "source": [
    "stack=[]\n",
    "stack.append(3)\n",
    "stack.append(4)\n",
    "stack.append(6)\n",
    "stack.pop()\n",
    "print(stack)"
   ]
  },
  {
   "cell_type": "code",
   "execution_count": 24,
   "metadata": {},
   "outputs": [],
   "source": [
    "class Node:\n",
    "    def __init__(self,value):\n",
    "        self.value=value\n",
    "        self.next=None\n",
    "    \n",
    "class Stack:\n",
    "    def __init__(self):\n",
    "        self._top=None\n",
    "        self._size=0\n",
    "        self._max_allowed_size=10\n",
    "\n",
    "    def push(self,value):\n",
    "        if self._max_allowed_size==self._size:\n",
    "            raise Exception(\"Stack Size limit exceeded.\")\n",
    "        new_element=Node(value)\n",
    "        new_element.next=self._top\n",
    "        self._top=new_element\n",
    "        self._size+=1\n",
    "        return self\n",
    "\n",
    "    def pop(self):\n",
    "        if not self._size:\n",
    "            raise Exception(\"Stack is Empty\")\n",
    "        former_top=self._top\n",
    "        self._top=self._top.next\n",
    "        former_top.next=None\n",
    "        self._size-=1\n",
    "        return former_top.value\n",
    "    \n",
    "    def peek(self):\n",
    "        return self._top.value if self._top else None\n",
    "\n",
    "    def clear(self):\n",
    "        self._top=None\n",
    "        self._size=0\n",
    "        return self\n",
    "\n",
    "    def print_stack(self):\n",
    "        if self._size==0:\n",
    "            raise Exception(\"Stack is Empty\")\n",
    "        current=self._top\n",
    "        print(\"Top ->\",end=\" \")\n",
    "        while current:\n",
    "            print(current.value, end=\"->\")\n",
    "            current=current.next\n",
    "        print(\"None\")\n",
    "\n",
    "\n"
   ]
  },
  {
   "cell_type": "code",
   "execution_count": 25,
   "metadata": {},
   "outputs": [],
   "source": [
    "my_stack=Stack()\n",
    "my_stack.peek()"
   ]
  },
  {
   "cell_type": "code",
   "execution_count": 34,
   "metadata": {},
   "outputs": [
    {
     "data": {
      "text/plain": [
       "<__main__.Stack at 0x2028ee00350>"
      ]
     },
     "execution_count": 34,
     "metadata": {},
     "output_type": "execute_result"
    }
   ],
   "source": [
    "my_stack.push('Google')\n",
    "my_stack.push(\"Yahoo\")\n",
    "my_stack.push(\"hotmail\")\n"
   ]
  },
  {
   "cell_type": "code",
   "execution_count": 27,
   "metadata": {},
   "outputs": [
    {
     "data": {
      "text/plain": [
       "'hotmail'"
      ]
     },
     "execution_count": 27,
     "metadata": {},
     "output_type": "execute_result"
    }
   ],
   "source": [
    "my_stack.peek()"
   ]
  },
  {
   "cell_type": "code",
   "execution_count": 35,
   "metadata": {},
   "outputs": [
    {
     "name": "stdout",
     "output_type": "stream",
     "text": [
      "Top -> hotmail->Yahoo->Google->None\n"
     ]
    }
   ],
   "source": [
    "my_stack.print_stack()"
   ]
  },
  {
   "cell_type": "code",
   "execution_count": 29,
   "metadata": {},
   "outputs": [
    {
     "name": "stdout",
     "output_type": "stream",
     "text": [
      "Top -> Yahoo->Google->None\n"
     ]
    }
   ],
   "source": [
    "my_stack.pop()\n",
    "my_stack.print_stack()"
   ]
  },
  {
   "cell_type": "code",
   "execution_count": 30,
   "metadata": {},
   "outputs": [
    {
     "data": {
      "text/plain": [
       "<__main__.Stack at 0x2028ee00350>"
      ]
     },
     "execution_count": 30,
     "metadata": {},
     "output_type": "execute_result"
    }
   ],
   "source": [
    "my_stack.clear()"
   ]
  },
  {
   "cell_type": "code",
   "execution_count": 33,
   "metadata": {},
   "outputs": [
    {
     "name": "stdout",
     "output_type": "stream",
     "text": [
      "<class 'str'>\n"
     ]
    }
   ],
   "source": [
    "print(type(str(3)))"
   ]
  },
  {
   "cell_type": "code",
   "execution_count": null,
   "metadata": {},
   "outputs": [],
   "source": []
  }
 ],
 "metadata": {
  "kernelspec": {
   "display_name": ".venv",
   "language": "python",
   "name": "python3"
  },
  "language_info": {
   "codemirror_mode": {
    "name": "ipython",
    "version": 3
   },
   "file_extension": ".py",
   "mimetype": "text/x-python",
   "name": "python",
   "nbconvert_exporter": "python",
   "pygments_lexer": "ipython3",
   "version": "3.12.8"
  }
 },
 "nbformat": 4,
 "nbformat_minor": 2
}
