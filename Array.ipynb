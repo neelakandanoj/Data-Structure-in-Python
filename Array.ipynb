{
 "cells": [
  {
   "cell_type": "code",
   "execution_count": 1,
   "metadata": {},
   "outputs": [
    {
     "name": "stdout",
     "output_type": "stream",
     "text": [
      "34\n"
     ]
    }
   ],
   "source": [
    "arr=[10,20,34,78]\n",
    "arr[2]\n",
    "print(arr[2])"
   ]
  },
  {
   "cell_type": "code",
   "execution_count": 2,
   "metadata": {},
   "outputs": [
    {
     "name": "stdout",
     "output_type": "stream",
     "text": [
      "[10, 20, 0, 78]\n"
     ]
    }
   ],
   "source": [
    "arr[2]=0\n",
    "print(arr)"
   ]
  },
  {
   "cell_type": "code",
   "execution_count": 2,
   "metadata": {},
   "outputs": [
    {
     "name": "stdout",
     "output_type": "stream",
     "text": [
      "['hello']\n"
     ]
    }
   ],
   "source": [
    "num=[\"hello\",\"world\", \"hello\"]\n",
    "frequency={}\n",
    "duplicate=[]\n",
    "\n",
    "for i in num:\n",
    "  if i in frequency:\n",
    "    frequency[i]+= 1\n",
    "  else:\n",
    "    frequency[i]=1\n",
    "\n",
    "for num, count in frequency.items():\n",
    "  if count>1:\n",
    "    duplicate.append(num)\n",
    "\n",
    "print(duplicate)\n",
    "\n"
   ]
  },
  {
   "cell_type": "code",
   "execution_count": 8,
   "metadata": {},
   "outputs": [
    {
     "name": "stdout",
     "output_type": "stream",
     "text": [
      "0-1-2-3-4-5-6-0-1-2-3-4-5-6-0-1-2-3-4-5-6-0-1-2-3-4-5-6-0-1-2-3-4-5-6-0-1-2-3-4-5-6-0-1-2-3-4-5-6-"
     ]
    }
   ],
   "source": [
    "def fun(num):\n",
    "    a=[]\n",
    "    for i in num:\n",
    "        for j in num:\n",
    "            print(j, end='-')\n",
    "            a.append(j)\n",
    "            # print(f\"Count {a.count()}\")\n",
    "\n",
    "num=[0,1,2,3,4,5,6]\n",
    "fun(num)"
   ]
  },
  {
   "cell_type": "code",
   "execution_count": 11,
   "metadata": {},
   "outputs": [
    {
     "name": "stdout",
     "output_type": "stream",
     "text": [
      "True\n",
      "False\n",
      "True\n"
     ]
    }
   ],
   "source": [
    "inp=\"()){\"\n",
    "bal=0\n",
    "for s in inp:\n",
    "    if s=='(' or s=='{':\n",
    "        bal+=1\n",
    "    elif s==\")\" or s=='}':\n",
    "        bal-=1\n",
    "    if bal<0:\n",
    "        print(\"False\")\n",
    "    elif bal==0:\n",
    "        print(\"True\")"
   ]
  },
  {
   "cell_type": "code",
   "execution_count": null,
   "metadata": {},
   "outputs": [],
   "source": [
    "inp='{({)}'\n",
    "stack=[]\n",
    "bal=0\n",
    "\n",
    "temp={\n",
    "    '}':'{',\n",
    "    ')':'('\n",
    "}\n",
    "\n",
    "for i in inp:\n",
    "    if i in '({':\n",
    "        stack.append(i)\n",
    "    elif i in '})':\n",
    "        "
   ]
  },
  {
   "cell_type": "code",
   "execution_count": 41,
   "metadata": {},
   "outputs": [
    {
     "ename": "KeyError",
     "evalue": "']'",
     "output_type": "error",
     "traceback": [
      "\u001b[1;31m---------------------------------------------------------------------------\u001b[0m",
      "\u001b[1;31mKeyError\u001b[0m                                  Traceback (most recent call last)",
      "Cell \u001b[1;32mIn[41], line 33\u001b[0m\n\u001b[0;32m     30\u001b[0m     \u001b[38;5;28;01mreturn\u001b[39;00m \u001b[38;5;28mlen\u001b[39m(stack) \u001b[38;5;241m==\u001b[39m \u001b[38;5;241m0\u001b[39m\n\u001b[0;32m     32\u001b[0m \u001b[38;5;66;03m# Examples\u001b[39;00m\n\u001b[1;32m---> 33\u001b[0m \u001b[38;5;28mprint\u001b[39m(\u001b[43mis_balanced_parentheses\u001b[49m\u001b[43m(\u001b[49m\u001b[38;5;124;43m\"\u001b[39;49m\u001b[38;5;124;43m((()))\u001b[39;49m\u001b[38;5;124;43m{{\u001b[39;49m\u001b[38;5;124;43m}}[]\u001b[39;49m\u001b[38;5;124;43m\"\u001b[39;49m\u001b[43m)\u001b[49m ) \u001b[38;5;66;03m# Output: True\u001b[39;00m\n\u001b[0;32m     34\u001b[0m \u001b[38;5;28mprint\u001b[39m(is_balanced_parentheses(\u001b[38;5;124m\"\u001b[39m\u001b[38;5;124m(()))\u001b[39m\u001b[38;5;124m\"\u001b[39m))       \u001b[38;5;66;03m# Output: False\u001b[39;00m\n\u001b[0;32m     35\u001b[0m \u001b[38;5;28mprint\u001b[39m(is_balanced_parentheses(\u001b[38;5;124m\"\u001b[39m\u001b[38;5;124m}((()))\u001b[39m\u001b[38;5;124m{{\u001b[39m\u001b[38;5;124m}\u001b[39m\u001b[38;5;124m\"\u001b[39m))  \u001b[38;5;66;03m# Output: True\u001b[39;00m\n",
      "Cell \u001b[1;32mIn[41], line 22\u001b[0m, in \u001b[0;36mis_balanced_parentheses\u001b[1;34m(s)\u001b[0m\n\u001b[0;32m     20\u001b[0m     stack\u001b[38;5;241m.\u001b[39mappend(char)\n\u001b[0;32m     21\u001b[0m \u001b[38;5;28;01melif\u001b[39;00m char \u001b[38;5;129;01min\u001b[39;00m \u001b[38;5;124m'\u001b[39m\u001b[38;5;124m)}]\u001b[39m\u001b[38;5;124m'\u001b[39m:  \u001b[38;5;66;03m# Process closing brackets\u001b[39;00m\n\u001b[1;32m---> 22\u001b[0m     \u001b[38;5;28;01mif\u001b[39;00m stack \u001b[38;5;129;01mand\u001b[39;00m stack[\u001b[38;5;241m-\u001b[39m\u001b[38;5;241m1\u001b[39m] \u001b[38;5;241m==\u001b[39m \u001b[43mmatching_brackets\u001b[49m\u001b[43m[\u001b[49m\u001b[43mchar\u001b[49m\u001b[43m]\u001b[49m:\n\u001b[0;32m     23\u001b[0m         stack\u001b[38;5;241m.\u001b[39mpop()  \u001b[38;5;66;03m# Pop the matching opening bracket\u001b[39;00m\n\u001b[0;32m     24\u001b[0m     \u001b[38;5;28;01melse\u001b[39;00m:\n",
      "\u001b[1;31mKeyError\u001b[0m: ']'"
     ]
    }
   ],
   "source": [
    "def is_balanced_parentheses(s):\n",
    "    \"\"\"\n",
    "    Determines if a string of parentheses is balanced.\n",
    "    :param s: str - A string containing only '(', ')', '{', and '}'\n",
    "    :return: bool - True if the parentheses are balanced, False otherwise\n",
    "    \"\"\"\n",
    "    # Initialize a stack to track open brackets\n",
    "    stack = []\n",
    "    \n",
    "    # Define matching pairs of brackets\n",
    "    matching_brackets = {\n",
    "        ')': '(',\n",
    "        '}': '{',\n",
    "        '[':']'\n",
    "    }\n",
    "\n",
    "    # Iterate through the string\n",
    "    for char in s:\n",
    "        if char in '({[':  # Push opening brackets onto the stack\n",
    "            stack.append(char)\n",
    "        elif char in ')}]':  # Process closing brackets\n",
    "            if stack and stack[-1] == matching_brackets[char]:\n",
    "                stack.pop()  # Pop the matching opening bracket\n",
    "            else:\n",
    "                return False  # Unmatched closing bracket\n",
    "\n",
    "\n",
    "\n",
    "    # The stack should be empty if all brackets are balanced\n",
    "    return len(stack) == 0\n",
    "\n",
    "# Examples\n",
    "print(is_balanced_parentheses(\"((())){{}}[]\") ) # Output: True\n",
    "print(is_balanced_parentheses(\"(()))\"))       # Output: False\n",
    "print(is_balanced_parentheses(\"}((())){{}\"))  # Output: True\n"
   ]
  },
  {
   "cell_type": "code",
   "execution_count": 42,
   "metadata": {},
   "outputs": [
    {
     "name": "stdout",
     "output_type": "stream",
     "text": [
      "True\n"
     ]
    }
   ],
   "source": [
    "def isValid(s: str) -> bool:\n",
    "    st = []\n",
    "    for it in s:\n",
    "        if it == '(' or it == '{' or it == '[':\n",
    "            st.append(it)\n",
    "        else:\n",
    "            if len(st) == 0:\n",
    "                return False\n",
    "            ch = st[-1]\n",
    "            st.pop()\n",
    "            if (it == ')' and ch == '(') or (it == ']' and ch == '[') or (it == '}' and ch == '{'):\n",
    "                continue\n",
    "            else:\n",
    "                return False\n",
    "    return len(st) == 0\n",
    "\n",
    "\n",
    "\n",
    "\n",
    "if __name__ == '__main__':\n",
    "    s = \"((())){{}}[]\"\n",
    "    if isValid(s):\n",
    "        print(\"True\")\n",
    "    else:\n",
    "        print(\"False\")"
   ]
  },
  {
   "cell_type": "code",
   "execution_count": 49,
   "metadata": {},
   "outputs": [
    {
     "name": "stdout",
     "output_type": "stream",
     "text": [
      "True\n"
     ]
    }
   ],
   "source": [
    "def isValid(s: str) -> bool:\n",
    "    st = []\n",
    "    for it in s:\n",
    "        if it in \"[({\":\n",
    "            st.append(it)\n",
    "        else:\n",
    "            if len(st) == 0:\n",
    "                return False\n",
    "            ch = st[-1]\n",
    "            st.pop()\n",
    "            if (it == ')' and ch == '(') or (it == ']' and ch == '[') or (it == '}' and ch == '{'):\n",
    "                continue\n",
    "            else:\n",
    "                return False\n",
    "    return len(st) == 0\n",
    "\n",
    "\n",
    "\n",
    "\n",
    "if __name__ == '__main__':\n",
    "    s = \"((())){{}}[]\"\n",
    "    if isValid(s):\n",
    "        print(\"True\")\n",
    "    else:\n",
    "        print(\"False\")"
   ]
  },
  {
   "cell_type": "code",
   "execution_count": 34,
   "metadata": {},
   "outputs": [
    {
     "name": "stdout",
     "output_type": "stream",
     "text": [
      "NO, Not Balanced\n"
     ]
    }
   ],
   "source": [
    "def is_BracketsBalanced(exp):\n",
    "    st = [] # creating empty stack\n",
    "    for ch in exp:\n",
    "        if ch in [\"{\", \"(\", \"[\",\"}\",')',']']:\n",
    "            st.append(ch)\n",
    "        else:\n",
    "            # If stack is empty return false\n",
    "            if not st:\n",
    "                return False\n",
    "            curr_ch = st.pop()\n",
    "            # If current char is { and top of the stack is not } then return false \n",
    "            if curr_ch == '}' or '}':\n",
    "                if ch != \"}\" or '{':\n",
    "                    return False\n",
    "            # If current char is ( and top of the stack is not ) then return false \n",
    "            if curr_ch == '(':\n",
    "                if ch != \")\":\n",
    "                    return False\n",
    "            # If current char is [ and top of the stack is not ] then return false \n",
    "            if curr_ch == '[':\n",
    "                if ch != \"]\":\n",
    "                    return False\n",
    "    # if any bracket still there in stack then return false\n",
    "    if st:\n",
    "        return False\n",
    "    return True\n",
    " \n",
    "if __name__ == \"__main__\":\n",
    "    exp = \"((())){{}}}{\"\n",
    "    if is_BracketsBalanced(exp):\n",
    "        print(\"Yes, Balanced\")\n",
    "    else:\n",
    "        print(\"NO, Not Balanced\")"
   ]
  },
  {
   "cell_type": "code",
   "execution_count": 1,
   "metadata": {},
   "outputs": [
    {
     "name": "stdout",
     "output_type": "stream",
     "text": [
      "Red\n",
      "Green\n",
      "Blue\n"
     ]
    }
   ],
   "source": [
    "def green():\n",
    "    color='jade'\n",
    "    print(\"Green\")\n",
    "def red():\n",
    "    color=\"Crim\"\n",
    "    print(\"Red\")\n",
    "    green()\n",
    "\n",
    "def blue():\n",
    "    red()\n",
    "    print(\"Blue\")\n",
    "\n",
    "blue()"
   ]
  },
  {
   "cell_type": "code",
   "execution_count": 4,
   "metadata": {},
   "outputs": [
    {
     "data": {
      "text/plain": [
       "120"
      ]
     },
     "execution_count": 4,
     "metadata": {},
     "output_type": "execute_result"
    }
   ],
   "source": [
    "def fact(n):\n",
    "  if n==0:\n",
    "    return 1\n",
    "  return n*fact(n-1)\n",
    "\n",
    "fact(5)"
   ]
  },
  {
   "cell_type": "code",
   "execution_count": 18,
   "metadata": {},
   "outputs": [
    {
     "data": {
      "text/plain": [
       "12"
      ]
     },
     "execution_count": 18,
     "metadata": {},
     "output_type": "execute_result"
    }
   ],
   "source": [
    "def find_missing_num(arr,n):\n",
    "    totalsum=n*(n+1)//2\n",
    "\n",
    "    actualsum=0\n",
    "    for i in arr:\n",
    "        actualsum=actualsum+i\n",
    "    return totalsum-actualsum\n",
    "    \n",
    "\n",
    "arr=[1, 2, 4, 6, 3, 8]\n",
    "find_missing_num(arr,8)\n"
   ]
  },
  {
   "cell_type": "code",
   "execution_count": 33,
   "metadata": {},
   "outputs": [],
   "source": [
    "def fib(n):\n",
    "    if n<=2:\n",
    "        return 1\n",
    "    sum=fib(n-1)+fib(n-2)\n",
    "    # print(sum,end=' ')\n",
    "     \n",
    "    return sum"
   ]
  },
  {
   "cell_type": "code",
   "execution_count": 34,
   "metadata": {},
   "outputs": [
    {
     "data": {
      "text/plain": [
       "8"
      ]
     },
     "execution_count": 34,
     "metadata": {},
     "output_type": "execute_result"
    }
   ],
   "source": [
    "fib(6)"
   ]
  },
  {
   "cell_type": "code",
   "execution_count": 41,
   "metadata": {},
   "outputs": [
    {
     "name": "stdout",
     "output_type": "stream",
     "text": [
      "Fib 0 1 1 2 3 5 8 13 21 34 \n"
     ]
    }
   ],
   "source": [
    "num=10\n",
    "n1,n2=0,1\n",
    "print(f\"Fib {n1} {n2}\",end=\" \")\n",
    "for i in range(2,num):\n",
    "    n3=n1+n2\n",
    "    n1=n2\n",
    "    n2=n3\n",
    "    print(n3, end=\" \")\n",
    "print()"
   ]
  },
  {
   "cell_type": "code",
   "execution_count": 42,
   "metadata": {},
   "outputs": [
    {
     "data": {
      "text/plain": [
       "960"
      ]
     },
     "execution_count": 42,
     "metadata": {},
     "output_type": "execute_result"
    }
   ],
   "source": [
    "def mul(arr):\n",
    "    total=1\n",
    "    for i in arr:\n",
    "        total*=i\n",
    "    return total\n",
    "mul([2,4,3,8,5])"
   ]
  },
  {
   "cell_type": "code",
   "execution_count": 43,
   "metadata": {},
   "outputs": [
    {
     "data": {
      "text/plain": [
       "960"
      ]
     },
     "execution_count": 43,
     "metadata": {},
     "output_type": "execute_result"
    }
   ],
   "source": [
    "def arr_pro(arr):\n",
    "    if not arr:\n",
    "        return 1\n",
    "    return arr[0]* arr_pro(arr[1:])\n",
    "arr_pro([2,4,3,8,5])"
   ]
  },
  {
   "cell_type": "code",
   "execution_count": 44,
   "metadata": {},
   "outputs": [
    {
     "data": {
      "text/plain": [
       "[34, 7, 9, 8]"
      ]
     },
     "execution_count": 44,
     "metadata": {},
     "output_type": "execute_result"
    }
   ],
   "source": [
    "m=[34,7,9,8,0]\n",
    "m.pop()\n",
    "m"
   ]
  },
  {
   "cell_type": "code",
   "execution_count": 46,
   "metadata": {},
   "outputs": [
    {
     "data": {
      "text/plain": [
       "[34, 0, 9, 0]"
      ]
     },
     "execution_count": 46,
     "metadata": {},
     "output_type": "execute_result"
    }
   ],
   "source": [
    "m[1]=0\n",
    "m"
   ]
  },
  {
   "cell_type": "code",
   "execution_count": 47,
   "metadata": {},
   "outputs": [
    {
     "data": {
      "text/plain": [
       "32"
      ]
     },
     "execution_count": 47,
     "metadata": {},
     "output_type": "execute_result"
    }
   ],
   "source": [
    "num={\"age\":24,\"name\":\"Neel\",\"age\":32}\n",
    "num['age']"
   ]
  },
  {
   "cell_type": "code",
   "execution_count": 49,
   "metadata": {},
   "outputs": [
    {
     "data": {
      "text/plain": [
       "dict_keys(['age', 'name'])"
      ]
     },
     "execution_count": 49,
     "metadata": {},
     "output_type": "execute_result"
    }
   ],
   "source": [
    "num.keys()"
   ]
  },
  {
   "cell_type": "code",
   "execution_count": 50,
   "metadata": {},
   "outputs": [
    {
     "data": {
      "text/plain": [
       "dict_values([32, 'Neel'])"
      ]
     },
     "execution_count": 50,
     "metadata": {},
     "output_type": "execute_result"
    }
   ],
   "source": [
    "num.values()"
   ]
  },
  {
   "cell_type": "code",
   "execution_count": 51,
   "metadata": {},
   "outputs": [
    {
     "data": {
      "text/plain": [
       "dict_items([('age', 32), ('name', 'Neel')])"
      ]
     },
     "execution_count": 51,
     "metadata": {},
     "output_type": "execute_result"
    }
   ],
   "source": [
    "num.items()"
   ]
  },
  {
   "cell_type": "code",
   "execution_count": 52,
   "metadata": {},
   "outputs": [
    {
     "name": "stdout",
     "output_type": "stream",
     "text": [
      "age 32\n",
      "name Neel\n"
     ]
    }
   ],
   "source": [
    "for k,v in num.items():\n",
    "    print(k,v)"
   ]
  },
  {
   "cell_type": "code",
   "execution_count": 54,
   "metadata": {},
   "outputs": [
    {
     "name": "stdout",
     "output_type": "stream",
     "text": [
      "    * \n",
      "   * * \n",
      "  * * * \n",
      " * * * * \n",
      "* * * * * \n",
      " * * * * \n",
      "  * * * \n",
      "   * * \n",
      "    * \n",
      "     \n"
     ]
    }
   ],
   "source": [
    "def print_diamond(n):\n",
    "    # Upper part of the diamond\n",
    "    for i in range(n):\n",
    "        print(\" \" * (n - i - 1) + \"* \" * (i + 1))\n",
    "    \n",
    "    # Lower part of the diamond\n",
    "    for i in range(n ):\n",
    "        print(\" \" * (i + 1) + \"* \" * (n - i - 1))\n",
    "\n",
    "# Input number of rows\n",
    "n = int(input(\"Enter the number of rows (n): \"))\n",
    "print_diamond(n)\n"
   ]
  },
  {
   "cell_type": "code",
   "execution_count": 56,
   "metadata": {},
   "outputs": [
    {
     "name": "stdout",
     "output_type": "stream",
     "text": [
      "    * \n",
      "   * * \n",
      "  * * * \n",
      " * * * * \n",
      "* * * * * \n",
      "* * * * * \n",
      " * * * * \n",
      "  * * * \n",
      "   * * \n",
      "    * \n"
     ]
    }
   ],
   "source": [
    "def print_diamond(n):\n",
    "    # Upper part of the diamond\n",
    "    for i in range(n):\n",
    "        print(\" \" * (n - i - 1) + \"* \" * (i + 1))\n",
    "\n",
    "    print(\"* \"*n)\n",
    "    \n",
    "    # Lower part of the diamond\n",
    "    for i in range(n -1):\n",
    "        print(\" \" * (i + 1) + \"* \" * (n - i - 1))\n",
    "\n",
    "# Input number of rows\n",
    "n = int(input(\"Enter the number of rows (n): \"))\n",
    "print_diamond(n)\n"
   ]
  },
  {
   "cell_type": "code",
   "execution_count": null,
   "metadata": {},
   "outputs": [],
   "source": []
  }
 ],
 "metadata": {
  "kernelspec": {
   "display_name": ".venv",
   "language": "python",
   "name": "python3"
  },
  "language_info": {
   "codemirror_mode": {
    "name": "ipython",
    "version": 3
   },
   "file_extension": ".py",
   "mimetype": "text/x-python",
   "name": "python",
   "nbconvert_exporter": "python",
   "pygments_lexer": "ipython3",
   "version": "3.12.8"
  }
 },
 "nbformat": 4,
 "nbformat_minor": 2
}
